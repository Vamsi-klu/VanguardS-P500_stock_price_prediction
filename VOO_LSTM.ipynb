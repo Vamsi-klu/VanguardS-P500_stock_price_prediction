{
  "nbformat": 4,
  "nbformat_minor": 0,
  "metadata": {
    "colab": {
      "name": "VOO LSTM.ipynb",
      "provenance": []
    },
    "kernelspec": {
      "name": "python3",
      "display_name": "Python 3"
    },
    "language_info": {
      "name": "python"
    }
  },
  "cells": [
    {
      "cell_type": "code",
      "metadata": {
        "id": "HyQOK7613tYs"
      },
      "source": [
        "from IPython.core.debugger import set_trace\n",
        "\n",
        "\n",
        "\n",
        "import pandas as pd\n",
        "import numpy as np\n",
        "import os\n",
        "import matplotlib.pyplot as plt\n",
        "import time\n",
        "\n",
        "plt.style.use(style=\"seaborn\")\n",
        "%matplotlib inline"
      ],
      "execution_count": 2,
      "outputs": []
    },
    {
      "cell_type": "code",
      "metadata": {
        "id": "4Ev_-yDH9b3b"
      },
      "source": [
        "df = pd.read_csv('/content/drive/MyDrive/VOO.csv')"
      ],
      "execution_count": 3,
      "outputs": []
    },
    {
      "cell_type": "code",
      "metadata": {
        "id": "ZmJO5WvPKewh",
        "colab": {
          "base_uri": "https://localhost:8080/"
        },
        "outputId": "f90ea5b3-8661-458f-fb61-dff381bdd18e"
      },
      "source": [
        "df.info()"
      ],
      "execution_count": 4,
      "outputs": [
        {
          "output_type": "stream",
          "text": [
            "<class 'pandas.core.frame.DataFrame'>\n",
            "RangeIndex: 2734 entries, 0 to 2733\n",
            "Data columns (total 7 columns):\n",
            " #   Column     Non-Null Count  Dtype  \n",
            "---  ------     --------------  -----  \n",
            " 0   Date       2734 non-null   object \n",
            " 1   Open       2734 non-null   float64\n",
            " 2   High       2734 non-null   float64\n",
            " 3   Low        2734 non-null   float64\n",
            " 4   Close      2734 non-null   float64\n",
            " 5   Adj Close  2734 non-null   float64\n",
            " 6   Volume     2734 non-null   int64  \n",
            "dtypes: float64(5), int64(1), object(1)\n",
            "memory usage: 149.6+ KB\n"
          ],
          "name": "stdout"
        }
      ]
    },
    {
      "cell_type": "code",
      "metadata": {
        "id": "FiJvUHqY9u4M"
      },
      "source": [
        "df.set_index(\"Date\",drop = True,inplace = True)"
      ],
      "execution_count": 6,
      "outputs": []
    },
    {
      "cell_type": "markdown",
      "metadata": {
        "id": "H0ktcu-3-JJA"
      },
      "source": [
        "In order to predict returns of the stock. now we will use only the close feature\n"
      ]
    },
    {
      "cell_type": "code",
      "metadata": {
        "id": "LumiZFed-Wt1"
      },
      "source": [
        "df = df[['Close']]"
      ],
      "execution_count": 7,
      "outputs": []
    },
    {
      "cell_type": "code",
      "metadata": {
        "colab": {
          "base_uri": "https://localhost:8080/"
        },
        "id": "OjdV0WPn-mkd",
        "outputId": "c8bec74e-0d43-426a-f267-5f1b8bb7b79b"
      },
      "source": [
        "type(df[['Close']])"
      ],
      "execution_count": 10,
      "outputs": [
        {
          "output_type": "execute_result",
          "data": {
            "text/plain": [
              "pandas.core.frame.DataFrame"
            ]
          },
          "metadata": {
            "tags": []
          },
          "execution_count": 10
        }
      ]
    },
    {
      "cell_type": "markdown",
      "metadata": {
        "id": "LCN45FEK_0oR"
      },
      "source": [
        "Here difference between 2 brackets and one bracket are, if i use single bracket then it will be as a series but if use 2 brackets then it will be a Data Frame. I want here it to be a dataframe,so i am using 2 brackets now"
      ]
    },
    {
      "cell_type": "code",
      "metadata": {
        "colab": {
          "base_uri": "https://localhost:8080/"
        },
        "id": "j4Qx9-2g-aLO",
        "outputId": "84f3f853-f6b7-4e0f-da56-71b7176f220b"
      },
      "source": [
        "type(df['Close']) == type(df[['Close']])"
      ],
      "execution_count": 9,
      "outputs": [
        {
          "output_type": "execute_result",
          "data": {
            "text/plain": [
              "False"
            ]
          },
          "metadata": {
            "tags": []
          },
          "execution_count": 9
        }
      ]
    },
    {
      "cell_type": "code",
      "metadata": {
        "colab": {
          "base_uri": "https://localhost:8080/",
          "height": 297
        },
        "id": "1MIoWfP4-jBr",
        "outputId": "04c34450-bfb5-4153-8d82-0ffeefd91715"
      },
      "source": [
        "df.describe()"
      ],
      "execution_count": 11,
      "outputs": [
        {
          "output_type": "execute_result",
          "data": {
            "text/html": [
              "<div>\n",
              "<style scoped>\n",
              "    .dataframe tbody tr th:only-of-type {\n",
              "        vertical-align: middle;\n",
              "    }\n",
              "\n",
              "    .dataframe tbody tr th {\n",
              "        vertical-align: top;\n",
              "    }\n",
              "\n",
              "    .dataframe thead th {\n",
              "        text-align: right;\n",
              "    }\n",
              "</style>\n",
              "<table border=\"1\" class=\"dataframe\">\n",
              "  <thead>\n",
              "    <tr style=\"text-align: right;\">\n",
              "      <th></th>\n",
              "      <th>Close</th>\n",
              "    </tr>\n",
              "  </thead>\n",
              "  <tbody>\n",
              "    <tr>\n",
              "      <th>count</th>\n",
              "      <td>2734.000000</td>\n",
              "    </tr>\n",
              "    <tr>\n",
              "      <th>mean</th>\n",
              "      <td>205.208277</td>\n",
              "    </tr>\n",
              "    <tr>\n",
              "      <th>std</th>\n",
              "      <td>69.685498</td>\n",
              "    </tr>\n",
              "    <tr>\n",
              "      <th>min</th>\n",
              "      <td>100.339996</td>\n",
              "    </tr>\n",
              "    <tr>\n",
              "      <th>25%</th>\n",
              "      <td>149.339996</td>\n",
              "    </tr>\n",
              "    <tr>\n",
              "      <th>50%</th>\n",
              "      <td>192.154999</td>\n",
              "    </tr>\n",
              "    <tr>\n",
              "      <th>75%</th>\n",
              "      <td>254.294999</td>\n",
              "    </tr>\n",
              "    <tr>\n",
              "      <th>max</th>\n",
              "      <td>401.820007</td>\n",
              "    </tr>\n",
              "  </tbody>\n",
              "</table>\n",
              "</div>"
            ],
            "text/plain": [
              "             Close\n",
              "count  2734.000000\n",
              "mean    205.208277\n",
              "std      69.685498\n",
              "min     100.339996\n",
              "25%     149.339996\n",
              "50%     192.154999\n",
              "75%     254.294999\n",
              "max     401.820007"
            ]
          },
          "metadata": {
            "tags": []
          },
          "execution_count": 11
        }
      ]
    },
    {
      "cell_type": "code",
      "metadata": {
        "colab": {
          "base_uri": "https://localhost:8080/",
          "height": 374
        },
        "id": "iN9j6Gar-uET",
        "outputId": "2fbce84f-9302-49d0-a6d5-930d221467d8"
      },
      "source": [
        "plt.figure(1, figsize=(16, 6))\n",
        "_ = plt.plot(df.Close)\n"
      ],
      "execution_count": 17,
      "outputs": [
        {
          "output_type": "display_data",
          "data": {
            "image/png": "[encoded data removed]",
            "text/plain": [
              "<Figure size 1152x432 with 1 Axes>"
            ]
          },
          "metadata": {
            "tags": [],
            "needs_background": "light"
          }
        }
      ]
    },
    {
      "cell_type": "markdown",
      "metadata": {
        "id": "e-ZPo5mx_WTl"
      },
      "source": [
        "Calculate the percentage change.\n",
        "\n",
        "The reason for using pct_change instead of the prices is the benefit of normalization as we can measure all variables in a comparable metric. Also returns have more manageable statistical properties than prices such as stationarity, as in most cases we don't have stationary prices but we can have stationary returns.\n",
        "\n",
        "A stationary time series is one where statistical properties such as mean, variance, correlation, etc are constant over time. For more details on stationarity: https://en.wikipedia.org/wiki/Stationary_process"
      ]
    },
    {
      "cell_type": "markdown",
      "metadata": {
        "id": "nwbNFtMsBeHu"
      },
      "source": [
        "The method which we used to calculate returns is called percentage change"
      ]
    },
    {
      "cell_type": "code",
      "metadata": {
        "id": "N1nT6Sza-38b"
      },
      "source": [
        "df['returns'] = df.Close.pct_change()"
      ],
      "execution_count": 19,
      "outputs": []
    },
    {
      "cell_type": "code",
      "metadata": {
        "colab": {
          "base_uri": "https://localhost:8080/",
          "height": 235
        },
        "id": "px7cL81S_dlz",
        "outputId": "8705d69e-dc0e-47ec-add7-7df79a95226b"
      },
      "source": [
        "df.head()"
      ],
      "execution_count": 20,
      "outputs": [
        {
          "output_type": "execute_result",
          "data": {
            "text/html": [
              "<div>\n",
              "<style scoped>\n",
              "    .dataframe tbody tr th:only-of-type {\n",
              "        vertical-align: middle;\n",
              "    }\n",
              "\n",
              "    .dataframe tbody tr th {\n",
              "        vertical-align: top;\n",
              "    }\n",
              "\n",
              "    .dataframe thead th {\n",
              "        text-align: right;\n",
              "    }\n",
              "</style>\n",
              "<table border=\"1\" class=\"dataframe\">\n",
              "  <thead>\n",
              "    <tr style=\"text-align: right;\">\n",
              "      <th></th>\n",
              "      <th>Close</th>\n",
              "      <th>returns</th>\n",
              "    </tr>\n",
              "    <tr>\n",
              "      <th>Date</th>\n",
              "      <th></th>\n",
              "      <th></th>\n",
              "    </tr>\n",
              "  </thead>\n",
              "  <tbody>\n",
              "    <tr>\n",
              "      <th>2010-09-09</th>\n",
              "      <td>101.320000</td>\n",
              "      <td>NaN</td>\n",
              "    </tr>\n",
              "    <tr>\n",
              "      <th>2010-09-10</th>\n",
              "      <td>101.779999</td>\n",
              "      <td>0.004540</td>\n",
              "    </tr>\n",
              "    <tr>\n",
              "      <th>2010-09-13</th>\n",
              "      <td>103.059998</td>\n",
              "      <td>0.012576</td>\n",
              "    </tr>\n",
              "    <tr>\n",
              "      <th>2010-09-14</th>\n",
              "      <td>103.040001</td>\n",
              "      <td>-0.000194</td>\n",
              "    </tr>\n",
              "    <tr>\n",
              "      <th>2010-09-15</th>\n",
              "      <td>103.300003</td>\n",
              "      <td>0.002523</td>\n",
              "    </tr>\n",
              "  </tbody>\n",
              "</table>\n",
              "</div>"
            ],
            "text/plain": [
              "                 Close   returns\n",
              "Date                            \n",
              "2010-09-09  101.320000       NaN\n",
              "2010-09-10  101.779999  0.004540\n",
              "2010-09-13  103.059998  0.012576\n",
              "2010-09-14  103.040001 -0.000194\n",
              "2010-09-15  103.300003  0.002523"
            ]
          },
          "metadata": {
            "tags": []
          },
          "execution_count": 20
        }
      ]
    },
    {
      "cell_type": "markdown",
      "metadata": {
        "id": "zJEBSOrFBx7G"
      },
      "source": [
        "Just to show you the percent change,here the mechanism is \n",
        "(current value/previous value -1)"
      ]
    },
    {
      "cell_type": "code",
      "metadata": {
        "colab": {
          "base_uri": "https://localhost:8080/"
        },
        "id": "2ZgRy1gHCDQV",
        "outputId": "a0bfca05-95d9-4744-e35a-c95a5b20ca77"
      },
      "source": [
        "101.77/101.32 - 1"
      ],
      "execution_count": 21,
      "outputs": [
        {
          "output_type": "execute_result",
          "data": {
            "text/plain": [
              "0.004441373864982223"
            ]
          },
          "metadata": {
            "tags": []
          },
          "execution_count": 21
        }
      ]
    },
    {
      "cell_type": "markdown",
      "metadata": {
        "id": "_kDt_KXMC936"
      },
      "source": [
        "\n",
        "Calculate the log returns,i attached a link below. Please refer the usage of log Returns\n",
        "\n",
        "Why use log returns: https://quantivity.wordpress.com/2011/02/21/why-log-returns/\n",
        "\n",
        "Here,i am using log returns because we assume log normality meaning that the price is normally distributed and also it is convient to use log return when returns ensures us the prices are close in Value to the raw returns"
      ]
    },
    {
      "cell_type": "code",
      "metadata": {
        "id": "tgwW4ra3DphN"
      },
      "source": [
        "df['log_returns'] = np.log(1 + df['returns'])"
      ],
      "execution_count": 22,
      "outputs": []
    },
    {
      "cell_type": "code",
      "metadata": {
        "colab": {
          "base_uri": "https://localhost:8080/",
          "height": 235
        },
        "id": "cR2A6znHEbR-",
        "outputId": "e8faf672-0d40-40f8-f04c-8cf6bbcf123b"
      },
      "source": [
        "df.head()"
      ],
      "execution_count": 26,
      "outputs": [
        {
          "output_type": "execute_result",
          "data": {
            "text/html": [
              "<div>\n",
              "<style scoped>\n",
              "    .dataframe tbody tr th:only-of-type {\n",
              "        vertical-align: middle;\n",
              "    }\n",
              "\n",
              "    .dataframe tbody tr th {\n",
              "        vertical-align: top;\n",
              "    }\n",
              "\n",
              "    .dataframe thead th {\n",
              "        text-align: right;\n",
              "    }\n",
              "</style>\n",
              "<table border=\"1\" class=\"dataframe\">\n",
              "  <thead>\n",
              "    <tr style=\"text-align: right;\">\n",
              "      <th></th>\n",
              "      <th>Close</th>\n",
              "      <th>returns</th>\n",
              "      <th>log_returns</th>\n",
              "    </tr>\n",
              "    <tr>\n",
              "      <th>Date</th>\n",
              "      <th></th>\n",
              "      <th></th>\n",
              "      <th></th>\n",
              "    </tr>\n",
              "  </thead>\n",
              "  <tbody>\n",
              "    <tr>\n",
              "      <th>2010-09-09</th>\n",
              "      <td>101.320000</td>\n",
              "      <td>NaN</td>\n",
              "      <td>NaN</td>\n",
              "    </tr>\n",
              "    <tr>\n",
              "      <th>2010-09-10</th>\n",
              "      <td>101.779999</td>\n",
              "      <td>0.004540</td>\n",
              "      <td>0.004530</td>\n",
              "    </tr>\n",
              "    <tr>\n",
              "      <th>2010-09-13</th>\n",
              "      <td>103.059998</td>\n",
              "      <td>0.012576</td>\n",
              "      <td>0.012498</td>\n",
              "    </tr>\n",
              "    <tr>\n",
              "      <th>2010-09-14</th>\n",
              "      <td>103.040001</td>\n",
              "      <td>-0.000194</td>\n",
              "      <td>-0.000194</td>\n",
              "    </tr>\n",
              "    <tr>\n",
              "      <th>2010-09-15</th>\n",
              "      <td>103.300003</td>\n",
              "      <td>0.002523</td>\n",
              "      <td>0.002520</td>\n",
              "    </tr>\n",
              "  </tbody>\n",
              "</table>\n",
              "</div>"
            ],
            "text/plain": [
              "                 Close   returns  log_returns\n",
              "Date                                         \n",
              "2010-09-09  101.320000       NaN          NaN\n",
              "2010-09-10  101.779999  0.004540     0.004530\n",
              "2010-09-13  103.059998  0.012576     0.012498\n",
              "2010-09-14  103.040001 -0.000194    -0.000194\n",
              "2010-09-15  103.300003  0.002523     0.002520"
            ]
          },
          "metadata": {
            "tags": []
          },
          "execution_count": 26
        }
      ]
    },
    {
      "cell_type": "code",
      "metadata": {
        "colab": {
          "base_uri": "https://localhost:8080/"
        },
        "id": "NuPKuHM7D6jB",
        "outputId": "bc3e1102-440b-4371-f8ce-19e300e0e057"
      },
      "source": [
        "df['log_returns']"
      ],
      "execution_count": 23,
      "outputs": [
        {
          "output_type": "execute_result",
          "data": {
            "text/plain": [
              "Date\n",
              "2010-09-09         NaN\n",
              "2010-09-10    0.004530\n",
              "2010-09-13    0.012498\n",
              "2010-09-14   -0.000194\n",
              "2010-09-15    0.002520\n",
              "                ...   \n",
              "2021-07-14    0.001373\n",
              "2021-07-15   -0.003222\n",
              "2021-07-16   -0.007811\n",
              "2021-07-19   -0.015065\n",
              "2021-07-20    0.014030\n",
              "Name: log_returns, Length: 2734, dtype: float64"
            ]
          },
          "metadata": {
            "tags": []
          },
          "execution_count": 23
        }
      ]
    },
    {
      "cell_type": "code",
      "metadata": {
        "colab": {
          "base_uri": "https://localhost:8080/",
          "height": 392
        },
        "id": "qTStXoyiD8li",
        "outputId": "e3e1f484-f7cf-40ae-aca7-df4f4d762bb3"
      },
      "source": [
        "plt.figure(1,figsize= (16,6))\n",
        "plt.plot(df.log_returns)"
      ],
      "execution_count": 25,
      "outputs": [
        {
          "output_type": "execute_result",
          "data": {
            "text/plain": [
              "[<matplotlib.lines.Line2D at 0x7fcecd6d8f50>]"
            ]
          },
          "metadata": {
            "tags": []
          },
          "execution_count": 25
        },
        {
          "output_type": "display_data",
          "data": {
            "image/png": "[encoded data removed]",
            "text/plain": [
              "<Figure size 1152x432 with 1 Axes>"
            ]
          },
          "metadata": {
            "tags": [],
            "needs_background": "light"
          }
        }
      ]
    },
    {
      "cell_type": "code",
      "metadata": {
        "id": "b4XjGtsrEHk6"
      },
      "source": [
        "df.dropna(inplace = True)\n",
        "X = df[['Close','returns','log_returns']].values"
      ],
      "execution_count": 32,
      "outputs": []
    },
    {
      "cell_type": "code",
      "metadata": {
        "colab": {
          "base_uri": "https://localhost:8080/"
        },
        "id": "JcLEN8AyFA1x",
        "outputId": "29f213d9-1ce3-42e7-98cf-a80ac0fdf1b8"
      },
      "source": [
        "X"
      ],
      "execution_count": 33,
      "outputs": [
        {
          "output_type": "execute_result",
          "data": {
            "text/plain": [
              "array([[ 1.01779999e+02,  4.54006119e-03,  4.52978620e-03],\n",
              "       [ 1.03059998e+02,  1.25761349e-02,  1.24977122e-02],\n",
              "       [ 1.03040001e+02, -1.94032606e-04, -1.94051433e-04],\n",
              "       ...,\n",
              "       [ 3.96609985e+02, -7.78048632e-03, -7.81091223e-03],\n",
              "       [ 3.90679993e+02, -1.49516962e-02, -1.50645996e-02],\n",
              "       [ 3.96200012e+02,  1.41292595e-02,  1.40303719e-02]])"
            ]
          },
          "metadata": {
            "tags": []
          },
          "execution_count": 33
        }
      ]
    },
    {
      "cell_type": "markdown",
      "metadata": {
        "id": "vrMuItHVFVSm"
      },
      "source": [
        "**Here** i am using min max scalar because.The min-max scalar form of normalization uses the mean and standard deviation to box all the data into a range lying between a certain min and max value. For most purposes, the range is set between 0 and 1."
      ]
    },
    {
      "cell_type": "code",
      "metadata": {
        "id": "YOyZLqs8FcL2"
      },
      "source": [
        "from sklearn.preprocessing import MinMaxScaler"
      ],
      "execution_count": 31,
      "outputs": []
    },
    {
      "cell_type": "code",
      "metadata": {
        "id": "Tcp-DOzAFyaZ"
      },
      "source": [
        "scalar = MinMaxScaler(feature_range= (0,1)).fit(X)\n",
        "X_scaled = scalar.transform(X)"
      ],
      "execution_count": 35,
      "outputs": []
    },
    {
      "cell_type": "code",
      "metadata": {
        "colab": {
          "base_uri": "https://localhost:8080/"
        },
        "id": "LDDc9iC0GGgq",
        "outputId": "95c5757d-147e-4bbd-fa9b-cf2347ca83d9"
      },
      "source": [
        "X_scaled"
      ],
      "execution_count": 36,
      "outputs": [
        {
          "output_type": "execute_result",
          "data": {
            "text/plain": [
              "array([[0.00477645, 0.57309982, 0.5991927 ],\n",
              "       [0.00902216, 0.61087183, 0.63608869],\n",
              "       [0.00895583, 0.55084813, 0.57731866],\n",
              "       ...,\n",
              "       [0.98271852, 0.51518947, 0.5420483 ],\n",
              "       [0.96304891, 0.48148258, 0.50845963],\n",
              "       [0.98135865, 0.618172  , 0.64318577]])"
            ]
          },
          "metadata": {
            "tags": []
          },
          "execution_count": 36
        }
      ]
    },
    {
      "cell_type": "code",
      "metadata": {
        "id": "C0JPaIohGOfU"
      },
      "source": [
        "y = [x[0] for x in X_scaled]"
      ],
      "execution_count": 37,
      "outputs": []
    },
    {
      "cell_type": "markdown",
      "metadata": {
        "id": "NyeCDkIcGhLg"
      },
      "source": [
        "Here i am implementing train test split\n"
      ]
    },
    {
      "cell_type": "code",
      "metadata": {
        "id": "rO2tI_0FGqYV"
      },
      "source": [
        "y = [x[0] for x in X_scaled]"
      ],
      "execution_count": 39,
      "outputs": []
    },
    {
      "cell_type": "code",
      "metadata": {
        "colab": {
          "base_uri": "https://localhost:8080/"
        },
        "id": "tuhXlaJhGyYa",
        "outputId": "bf418e05-4779-49fd-9309-9f0c6fe81c4b"
      },
      "source": [
        "y[:5]"
      ],
      "execution_count": 41,
      "outputs": [
        {
          "output_type": "execute_result",
          "data": {
            "text/plain": [
              "[0.004776446024476244,\n",
              " 0.009022163661789151,\n",
              " 0.008955834222787007,\n",
              " 0.009818252925564597,\n",
              " 0.009685570828773749]"
            ]
          },
          "metadata": {
            "tags": []
          },
          "execution_count": 41
        }
      ]
    },
    {
      "cell_type": "code",
      "metadata": {
        "colab": {
          "base_uri": "https://localhost:8080/"
        },
        "id": "b7lvb8HzGzVa",
        "outputId": "dd56bdba-bdb9-49b2-ea3a-739af0f57b8f"
      },
      "source": [
        "split = int(len(X_scaled) * 0.8)\n",
        "print(split)"
      ],
      "execution_count": 42,
      "outputs": [
        {
          "output_type": "stream",
          "text": [
            "2186\n"
          ],
          "name": "stdout"
        }
      ]
    },
    {
      "cell_type": "code",
      "metadata": {
        "id": "kf6m4TZBHDhi"
      },
      "source": [
        "X_train = X_scaled[:split]\n",
        "X_test = X_scaled[split : len(X_scaled)]\n",
        "y_train = y[:split]\n",
        "y_test = y[split : len(y)]"
      ],
      "execution_count": 43,
      "outputs": []
    },
    {
      "cell_type": "markdown",
      "metadata": {
        "id": "OPs2tYQwIfEI"
      },
      "source": [
        "Below i used assert becuase just to ensure X_train and y_train are equal and X_test and y_test are equal"
      ]
    },
    {
      "cell_type": "code",
      "metadata": {
        "id": "Gazqv5wVHK3C"
      },
      "source": [
        "assert len(X_train) == len(y_train)\n",
        "assert len(X_test) == len(y_test)"
      ],
      "execution_count": 44,
      "outputs": []
    },
    {
      "cell_type": "markdown",
      "metadata": {
        "id": "tqQIya2LHg0G"
      },
      "source": [
        "Labeling\n",
        "We want to predict the stock at a future price.We'll predict the stock price at (t+1) relative to the stock price at time t"
      ]
    },
    {
      "cell_type": "markdown",
      "metadata": {
        "id": "D9jwwT8iH1y2"
      },
      "source": [
        "\n",
        "As we're going to use an LSTM architecture, we know that it has memory and that it is maintained by setting the time step, basically how many steps in the past we want the LSTM to use.\n",
        "\n",
        "The time step refers to how many steps in time we want the backpropagation algorithm to use when calculating gradients for weight updates during training.\n",
        "\n",
        "So we can use a method to create both the timestep and the output variable, the t + 1."
      ]
    },
    {
      "cell_type": "code",
      "metadata": {
        "id": "IaUFNOKeH5TW"
      },
      "source": [
        "n = 3 #time step of 3 it means we are using 3 days in a past\n",
        "Xtrain = []\n",
        "ytrain = []\n",
        "Xtest = []\n",
        "ytest = []\n",
        "\n",
        "\n",
        "for i in range(n,len(X_train)): #here i intinated a for loop because it takes the values from past 3 days and  and appends to ytrain to get y train\n",
        "  Xtrain.append(X_train[i - n : i, :X_train.shape[1]])\n",
        "  ytrain.append(y_train[i]) #predicting the next record\n",
        "\n",
        "for i in range(n,len(X_test)): #here i intinated a for loop because it takes the values from past 3 days and  and appends to ytrain to get y train\n",
        "  Xtest.append(X_test[ i - n : i, : X_test.shape[1]])\n",
        "  ytest.append(y_test[i]) #predicting the next record\n",
        "\n",
        "\n"
      ],
      "execution_count": 47,
      "outputs": []
    },
    {
      "cell_type": "code",
      "metadata": {
        "colab": {
          "base_uri": "https://localhost:8080/",
          "height": 235
        },
        "id": "9gx8XvtXLURF",
        "outputId": "947e0016-ec9b-4538-f113-2381a3e7f218"
      },
      "source": [
        "df.head(5)"
      ],
      "execution_count": 48,
      "outputs": [
        {
          "output_type": "execute_result",
          "data": {
            "text/html": [
              "<div>\n",
              "<style scoped>\n",
              "    .dataframe tbody tr th:only-of-type {\n",
              "        vertical-align: middle;\n",
              "    }\n",
              "\n",
              "    .dataframe tbody tr th {\n",
              "        vertical-align: top;\n",
              "    }\n",
              "\n",
              "    .dataframe thead th {\n",
              "        text-align: right;\n",
              "    }\n",
              "</style>\n",
              "<table border=\"1\" class=\"dataframe\">\n",
              "  <thead>\n",
              "    <tr style=\"text-align: right;\">\n",
              "      <th></th>\n",
              "      <th>Close</th>\n",
              "      <th>returns</th>\n",
              "      <th>log_returns</th>\n",
              "    </tr>\n",
              "    <tr>\n",
              "      <th>Date</th>\n",
              "      <th></th>\n",
              "      <th></th>\n",
              "      <th></th>\n",
              "    </tr>\n",
              "  </thead>\n",
              "  <tbody>\n",
              "    <tr>\n",
              "      <th>2010-09-10</th>\n",
              "      <td>101.779999</td>\n",
              "      <td>0.004540</td>\n",
              "      <td>0.004530</td>\n",
              "    </tr>\n",
              "    <tr>\n",
              "      <th>2010-09-13</th>\n",
              "      <td>103.059998</td>\n",
              "      <td>0.012576</td>\n",
              "      <td>0.012498</td>\n",
              "    </tr>\n",
              "    <tr>\n",
              "      <th>2010-09-14</th>\n",
              "      <td>103.040001</td>\n",
              "      <td>-0.000194</td>\n",
              "      <td>-0.000194</td>\n",
              "    </tr>\n",
              "    <tr>\n",
              "      <th>2010-09-15</th>\n",
              "      <td>103.300003</td>\n",
              "      <td>0.002523</td>\n",
              "      <td>0.002520</td>\n",
              "    </tr>\n",
              "    <tr>\n",
              "      <th>2010-09-16</th>\n",
              "      <td>103.260002</td>\n",
              "      <td>-0.000387</td>\n",
              "      <td>-0.000387</td>\n",
              "    </tr>\n",
              "  </tbody>\n",
              "</table>\n",
              "</div>"
            ],
            "text/plain": [
              "                 Close   returns  log_returns\n",
              "Date                                         \n",
              "2010-09-10  101.779999  0.004540     0.004530\n",
              "2010-09-13  103.059998  0.012576     0.012498\n",
              "2010-09-14  103.040001 -0.000194    -0.000194\n",
              "2010-09-15  103.300003  0.002523     0.002520\n",
              "2010-09-16  103.260002 -0.000387    -0.000387"
            ]
          },
          "metadata": {
            "tags": []
          },
          "execution_count": 48
        }
      ]
    },
    {
      "cell_type": "code",
      "metadata": {
        "colab": {
          "base_uri": "https://localhost:8080/"
        },
        "id": "hcBECcC_Lalx",
        "outputId": "9ef81673-093b-4ad4-d6fc-cbaa37e9e0fb"
      },
      "source": [
        "Xtrain[0]\n"
      ],
      "execution_count": 52,
      "outputs": [
        {
          "output_type": "execute_result",
          "data": {
            "text/plain": [
              "array([[0.00477645, 0.57309982, 0.5991927 ],\n",
              "       [0.00902216, 0.61087183, 0.63608869],\n",
              "       [0.00895583, 0.55084813, 0.57731866]])"
            ]
          },
          "metadata": {
            "tags": []
          },
          "execution_count": 52
        }
      ]
    },
    {
      "cell_type": "code",
      "metadata": {
        "colab": {
          "base_uri": "https://localhost:8080/"
        },
        "id": "lyDF-3ZZLfV5",
        "outputId": "1a41c623-22eb-4089-e79f-cd90ccb1338f"
      },
      "source": [
        "ytrain[0]"
      ],
      "execution_count": 51,
      "outputs": [
        {
          "output_type": "execute_result",
          "data": {
            "text/plain": [
              "0.009818252925564597"
            ]
          },
          "metadata": {
            "tags": []
          },
          "execution_count": 51
        }
      ]
    },
    {
      "cell_type": "code",
      "metadata": {
        "id": "Vx7l-fGaLlTB"
      },
      "source": [
        "val = np.array(ytrain[0])\n",
        "val = np.c_[val , np.zeros(val.shape)]"
      ],
      "execution_count": 53,
      "outputs": []
    },
    {
      "cell_type": "markdown",
      "metadata": {
        "id": "sr1AP7D_6JB1"
      },
      "source": [
        "In an LSTM network the input for each LSTM layer needs to contain the following information:\n",
        "- The number of observations\n",
        "- The time steps\n",
        "- The features\n",
        "\n",
        "Therefore we need to add a temporal dimension compared to a classical network:\n",
        "\n",
        "(number of observations, number of steps, number of features per step)"
      ]
    },
    {
      "cell_type": "code",
      "metadata": {
        "id": "ZrG3KTKqMfjF"
      },
      "source": [
        "Xtrain, ytrain = (np.array(Xtrain), np.array(ytrain))\n",
        "Xtrain = np.reshape(Xtrain, (Xtrain.shape[0], Xtrain.shape[1], Xtrain.shape[2]))\n",
        "\n",
        "Xtest, ytest = (np.array(Xtest), np.array(ytest))\n",
        "Xtest = np.reshape(Xtest, (Xtest.shape[0], Xtest.shape[1], Xtest.shape[2]))"
      ],
      "execution_count": 63,
      "outputs": []
    },
    {
      "cell_type": "code",
      "metadata": {
        "colab": {
          "base_uri": "https://localhost:8080/"
        },
        "id": "rFId9GpmN4hC",
        "outputId": "1b94b7eb-d308-436c-ece8-e9fb68f49a53"
      },
      "source": [
        "print(Xtrain.shape)\n",
        "print(ytrain.shape)\n",
        "print(\"---\")\n",
        "print(Xtest.shape)\n",
        "print(ytest.shape)"
      ],
      "execution_count": 64,
      "outputs": [
        {
          "output_type": "stream",
          "text": [
            "(2183, 3, 3)\n",
            "(2183,)\n",
            "---\n",
            "(544, 3, 3)\n",
            "(544,)\n"
          ],
          "name": "stdout"
        }
      ]
    },
    {
      "cell_type": "code",
      "metadata": {
        "id": "PzQJV9pSPFHh"
      },
      "source": [
        "import tensorflow.keras as keras\n",
        "from tensorflow.keras.models import Sequential\n",
        "\n",
        "from keras.layers import LSTM,Dense"
      ],
      "execution_count": 69,
      "outputs": []
    },
    {
      "cell_type": "code",
      "metadata": {
        "colab": {
          "base_uri": "https://localhost:8080/"
        },
        "id": "hYKN6bbRPSIY",
        "outputId": "05c17c91-2339-4a97-d98d-830038421358"
      },
      "source": [
        "model = Sequential()\n",
        "model.add(LSTM(4,input_shape = (Xtrain.shape[1],Xtrain.shape[2])))\n",
        "model.add(Dense(1))\n",
        "model.compile(loss = \"mean_squared_error\",optimizer = \"adam\")\n",
        "model.fit(Xtrain,ytrain,epochs = 10,validation_data = (Xtest,ytest),batch_size = 16,verbose = 1)"
      ],
      "execution_count": 80,
      "outputs": [
        {
          "output_type": "stream",
          "text": [
            "Epoch 1/10\n",
            "137/137 [==============================] - 3s 5ms/step - loss: 0.0136 - val_loss: 0.0575\n",
            "Epoch 2/10\n",
            "137/137 [==============================] - 0s 3ms/step - loss: 0.0041 - val_loss: 0.0189\n",
            "Epoch 3/10\n",
            "137/137 [==============================] - 0s 3ms/step - loss: 5.8615e-04 - val_loss: 0.0029\n",
            "Epoch 4/10\n",
            "137/137 [==============================] - 0s 3ms/step - loss: 4.6332e-05 - val_loss: 0.0017\n",
            "Epoch 5/10\n",
            "137/137 [==============================] - 0s 2ms/step - loss: 3.6623e-05 - val_loss: 0.0016\n",
            "Epoch 6/10\n",
            "137/137 [==============================] - 0s 3ms/step - loss: 3.6782e-05 - val_loss: 0.0017\n",
            "Epoch 7/10\n",
            "137/137 [==============================] - 0s 3ms/step - loss: 3.6385e-05 - val_loss: 0.0017\n",
            "Epoch 8/10\n",
            "137/137 [==============================] - 0s 2ms/step - loss: 3.6775e-05 - val_loss: 0.0016\n",
            "Epoch 9/10\n",
            "137/137 [==============================] - 0s 3ms/step - loss: 3.6544e-05 - val_loss: 0.0016\n",
            "Epoch 10/10\n",
            "137/137 [==============================] - 0s 3ms/step - loss: 3.5830e-05 - val_loss: 0.0017\n"
          ],
          "name": "stdout"
        },
        {
          "output_type": "execute_result",
          "data": {
            "text/plain": [
              "<tensorflow.python.keras.callbacks.History at 0x7fce74f2dbd0>"
            ]
          },
          "metadata": {
            "tags": []
          },
          "execution_count": 80
        }
      ]
    },
    {
      "cell_type": "code",
      "metadata": {
        "colab": {
          "base_uri": "https://localhost:8080/"
        },
        "id": "HffUkYgtcdmd",
        "outputId": "7e8c1d92-7814-4930-8bd4-e0624316852a"
      },
      "source": [
        "model.summary()"
      ],
      "execution_count": 81,
      "outputs": [
        {
          "output_type": "stream",
          "text": [
            "Model: \"sequential_4\"\n",
            "_________________________________________________________________\n",
            "Layer (type)                 Output Shape              Param #   \n",
            "=================================================================\n",
            "module_wrapper_8 (ModuleWrap (None, 4)                 128       \n",
            "_________________________________________________________________\n",
            "module_wrapper_9 (ModuleWrap (None, 1)                 5         \n",
            "=================================================================\n",
            "Total params: 133\n",
            "Trainable params: 133\n",
            "Non-trainable params: 0\n",
            "_________________________________________________________________\n"
          ],
          "name": "stdout"
        }
      ]
    },
    {
      "cell_type": "code",
      "metadata": {
        "id": "Lyh92E6mfa0B"
      },
      "source": [
        "trainPredict = model.predict(Xtrain)\n",
        "testPredict = model.predict(Xtest)"
      ],
      "execution_count": 82,
      "outputs": []
    },
    {
      "cell_type": "code",
      "metadata": {
        "id": "-xOnTLf9gSg3"
      },
      "source": [
        "trainPredict = np.c_[trainPredict , np.zeros(trainPredict.shape)]\n",
        "testPredict = np.c_[testPredict,np.zeros(testPredict.shape)]"
      ],
      "execution_count": 83,
      "outputs": []
    },
    {
      "cell_type": "code",
      "metadata": {
        "id": "n5QZblH3g5sO"
      },
      "source": [
        "from sklearn.metrics import mean_squared_error"
      ],
      "execution_count": 86,
      "outputs": []
    },
    {
      "cell_type": "code",
      "metadata": {
        "colab": {
          "base_uri": "https://localhost:8080/"
        },
        "id": "n4-WLSkdhots",
        "outputId": "92cc9754-e212-4764-baa2-abe98ac7e02b"
      },
      "source": [
        "X_test[:5]"
      ],
      "execution_count": 91,
      "outputs": [
        {
          "output_type": "execute_result",
          "data": {
            "text/plain": [
              "array([[0.5323073 , 0.51972234, 0.54654675],\n",
              "       [0.53963778, 0.591587  , 0.61728785],\n",
              "       [0.53724956, 0.53889383, 0.56552445],\n",
              "       [0.52706643, 0.49674897, 0.52370267],\n",
              "       [0.52855911, 0.55991936, 0.58624841]])"
            ]
          },
          "metadata": {
            "tags": []
          },
          "execution_count": 91
        }
      ]
    },
    {
      "cell_type": "code",
      "metadata": {
        "id": "GPmFvX6ChEdX"
      },
      "source": [
        "y_pred = model.predict(Xtest)"
      ],
      "execution_count": 92,
      "outputs": []
    },
    {
      "cell_type": "code",
      "metadata": {
        "colab": {
          "base_uri": "https://localhost:8080/"
        },
        "id": "Pj54OkFrhJNG",
        "outputId": "eb50a328-8cef-4ccb-bb72-5b43224ee478"
      },
      "source": [
        "mean_squared_error(ytest,y_pred)"
      ],
      "execution_count": 93,
      "outputs": [
        {
          "output_type": "execute_result",
          "data": {
            "text/plain": [
              "0.0017014325336272415"
            ]
          },
          "metadata": {
            "tags": []
          },
          "execution_count": 93
        }
      ]
    },
    {
      "cell_type": "code",
      "metadata": {
        "id": "FRXIMMzPiPlW"
      },
      "source": [
        ""
      ],
      "execution_count": null,
      "outputs": []
    }
  ]
}